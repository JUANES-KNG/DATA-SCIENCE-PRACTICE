{
 "cells": [
  {
   "cell_type": "code",
   "execution_count": 1,
   "metadata": {},
   "outputs": [],
   "source": [
    "import requests\n",
    "import pandas as pd\n",
    "import numpy as np\n",
    "import datetime\n",
    "pd.set_option('display.max_columns', None)\n",
    "pd.set_option('display.max_colwidth', None)"
   ]
  },
  {
   "cell_type": "code",
   "execution_count": 2,
   "metadata": {},
   "outputs": [],
   "source": [
    "def getBoosterVersion(data):\n",
    "    for x in data['rocket']:\n",
    "       if x:\n",
    "        response = requests.get(\"https://api.spacexdata.com/v4/rockets/\"+str(x)).json()\n",
    "        BoosterVersion.append(response['name'])\n",
    "        \n",
    "def getLaunchSite(data):\n",
    "    for x in data['launchpad']:\n",
    "       if x:\n",
    "         response = requests.get(\"https://api.spacexdata.com/v4/launchpads/\"+str(x)).json()\n",
    "         Longitude.append(response['longitude'])\n",
    "         Latitude.append(response['latitude'])\n",
    "         LaunchSite.append(response['name'])\n",
    "         \n",
    "def getPayloadData(data):\n",
    "    for load in data['payloads']:\n",
    "       if load:\n",
    "        response = requests.get(\"https://api.spacexdata.com/v4/payloads/\"+load).json()\n",
    "        PayloadMass.append(response['mass_kg'])\n",
    "        Orbit.append(response['orbit'])\n",
    "        \n",
    "def getCoreData(data):\n",
    "    for core in data['cores']:\n",
    "        if core['core'] != None:\n",
    "            response = requests.get(\"https://api.spacexdata.com/v4/cores/\"+core['core']).json()\n",
    "            Block.append(response['block'])\n",
    "            ReusedCount.append(response['reuse_count'])\n",
    "            Serial.append(response['serial'])\n",
    "        else:\n",
    "            Block.append(None)\n",
    "            ReusedCount.append(None)\n",
    "            Serial.append(None)\n",
    "        Outcome.append(str(core['landing_success'])+' '+str(core['landing_type']))\n",
    "        Flights.append(core['flight'])\n",
    "        GridFins.append(core['gridfins'])\n",
    "        Reused.append(core['reused'])\n",
    "        Legs.append(core['legs'])\n",
    "        LandingPad.append(core['landpad'])"
   ]
  },
  {
   "cell_type": "code",
   "execution_count": 3,
   "metadata": {},
   "outputs": [],
   "source": [
    "spacex_url=\"https://api.spacexdata.com/v4/launches/past\"\n",
    "response = requests.get(spacex_url)"
   ]
  },
  {
   "cell_type": "code",
   "execution_count": 4,
   "metadata": {},
   "outputs": [
    {
     "name": "stdout",
     "output_type": "stream",
     "text": [
      "<class 'pandas.core.frame.DataFrame'>\n",
      "Int64Index: 94 entries, 0 to 105\n",
      "Data columns (total 7 columns):\n",
      " #   Column         Non-Null Count  Dtype \n",
      "---  ------         --------------  ----- \n",
      " 0   rocket         94 non-null     object\n",
      " 1   payloads       94 non-null     object\n",
      " 2   launchpad      94 non-null     object\n",
      " 3   cores          94 non-null     object\n",
      " 4   flight_number  94 non-null     int64 \n",
      " 5   date_utc       94 non-null     object\n",
      " 6   date           94 non-null     object\n",
      "dtypes: int64(1), object(6)\n",
      "memory usage: 5.9+ KB\n"
     ]
    }
   ],
   "source": [
    "static_json_url='https://cf-courses-data.s3.us.cloud-object-storage.appdomain.cloud/IBM-DS0321EN-SkillsNetwork/datasets/API_call_spacex_api.json'\n",
    "df = pd.json_normalize(response.json())\n",
    "df = df[['rocket', 'payloads', 'launchpad', 'cores', 'flight_number', 'date_utc']]\n",
    "df = df[df['cores'].map(len)==1]\n",
    "df = df[df['payloads'].map(len)==1]\n",
    "df['cores'] = df['cores'].map(lambda x : x[0])\n",
    "df['payloads'] = df['payloads'].map(lambda x : x[0])\n",
    "df['date'] = pd.to_datetime(df['date_utc']).dt.date\n",
    "df = df[df['date'] <= datetime.date(2020, 11, 13)]\n",
    "df.info()"
   ]
  },
  {
   "cell_type": "code",
   "execution_count": 5,
   "metadata": {},
   "outputs": [],
   "source": [
    "BoosterVersion = []\n",
    "PayloadMass = []\n",
    "Orbit = []\n",
    "LaunchSite = []\n",
    "Outcome = []\n",
    "Flights = []\n",
    "GridFins = []\n",
    "Reused = []\n",
    "Legs = []\n",
    "LandingPad = []\n",
    "Block = []\n",
    "ReusedCount = []\n",
    "Serial = []\n",
    "Longitude = []\n",
    "Latitude = []"
   ]
  },
  {
   "cell_type": "code",
   "execution_count": 6,
   "metadata": {},
   "outputs": [],
   "source": [
    "getBoosterVersion(df)\n",
    "getLaunchSite(df)\n",
    "getPayloadData(df)\n",
    "getCoreData(df)"
   ]
  },
  {
   "cell_type": "code",
   "execution_count": 7,
   "metadata": {},
   "outputs": [],
   "source": [
    "launch_dict = {'FlightNumber': list(df['flight_number']),\n",
    "'Date': list(df['date']),\n",
    "'BoosterVersion':BoosterVersion,\n",
    "'PayloadMass':PayloadMass,\n",
    "'Orbit':Orbit,\n",
    "'LaunchSite':LaunchSite,\n",
    "'Outcome':Outcome,\n",
    "'Flights':Flights,\n",
    "'GridFins':GridFins,\n",
    "'Reused':Reused,\n",
    "'Legs':Legs,\n",
    "'LandingPad':LandingPad,\n",
    "'Block':Block,\n",
    "'ReusedCount':ReusedCount,\n",
    "'Serial':Serial,\n",
    "'Longitude': Longitude,\n",
    "'Latitude': Latitude}"
   ]
  },
  {
   "cell_type": "code",
   "execution_count": 8,
   "metadata": {},
   "outputs": [],
   "source": [
    "df_launch = pd.DataFrame(launch_dict)\n",
    "df_launch.head()\n",
    "df_launch.to_csv('launch.csv', index='False')"
   ]
  }
 ],
 "metadata": {
  "kernelspec": {
   "display_name": "temporary",
   "language": "python",
   "name": "python3"
  },
  "language_info": {
   "codemirror_mode": {
    "name": "ipython",
    "version": 3
   },
   "file_extension": ".py",
   "mimetype": "text/x-python",
   "name": "python",
   "nbconvert_exporter": "python",
   "pygments_lexer": "ipython3",
   "version": "3.11.3"
  }
 },
 "nbformat": 4,
 "nbformat_minor": 2
}
